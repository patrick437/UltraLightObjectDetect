{
 "cells": [
  {
   "cell_type": "code",
   "execution_count": 1,
   "id": "04c44f3d",
   "metadata": {
    "execution": {
     "iopub.execute_input": "2025-03-12T16:57:33.934598Z",
     "iopub.status.busy": "2025-03-12T16:57:33.934210Z",
     "iopub.status.idle": "2025-03-12T16:57:33.944636Z",
     "shell.execute_reply": "2025-03-12T16:57:33.943548Z"
    },
    "papermill": {
     "duration": 0.015925,
     "end_time": "2025-03-12T16:57:33.946585",
     "exception": false,
     "start_time": "2025-03-12T16:57:33.930660",
     "status": "completed"
    },
    "tags": []
   },
   "outputs": [],
   "source": [
    "import os\n",
    "import shutil\n",
    "\n",
    "def convert_yolov5_to_yolov8(yolov5_dir, yolov8_dir):\n",
    "    if not os.path.exists(yolov8_dir):\n",
    "        os.makedirs(yolov8_dir)\n",
    "    \n",
    "    for root, dirs, files in os.walk(yolov5_dir):\n",
    "        for file in files:\n",
    "            if file.endswith('.txt'):\n",
    "                label_path = os.path.join(root, file)\n",
    "                image_path = label_path.replace('labels', 'images').replace('.txt', '.jpg')\n",
    "                \n",
    "                if os.path.exists(image_path):\n",
    "                    # Create corresponding directories in YOLOv8 structure\n",
    "                    relative_path = os.path.relpath(root, yolov5_dir).replace('labels', '')\n",
    "                    yolov8_label_dir = os.path.join(yolov8_dir, 'labels', relative_path)\n",
    "                    yolov8_image_dir = os.path.join(yolov8_dir, 'images', relative_path)\n",
    "                    \n",
    "                    if not os.path.exists(yolov8_label_dir):\n",
    "                        os.makedirs(yolov8_label_dir)\n",
    "                    if not os.path.exists(yolov8_image_dir):\n",
    "                        os.makedirs(yolov8_image_dir)\n",
    "                    \n",
    "                    # Copy label and image files\n",
    "                    shutil.copy(label_path, os.path.join(yolov8_label_dir, file))\n",
    "                    shutil.copy(image_path, os.path.join(yolov8_image_dir, os.path.basename(image_path)))\n",
    "\n",
    "\n",
    "if __name__ == \"__main__\":\n",
    "    yolov5_dir = '/kaggle/working/traffic-camera-object-detection/traffic'\n",
    "    yolov8_dir = '/kaggle/working/traffic'\n",
    "    convert_yolov5_to_yolov8(yolov5_dir, yolov8_dir)"
   ]
  },
  {
   "cell_type": "code",
   "execution_count": null,
   "id": "61ce2459",
   "metadata": {
    "papermill": {
     "duration": 0.00137,
     "end_time": "2025-03-12T16:57:33.950057",
     "exception": false,
     "start_time": "2025-03-12T16:57:33.948687",
     "status": "completed"
    },
    "tags": []
   },
   "outputs": [],
   "source": []
  }
 ],
 "metadata": {
  "kaggle": {
   "accelerator": "none",
   "dataSources": [
    {
     "datasetId": 1595827,
     "sourceId": 2624877,
     "sourceType": "datasetVersion"
    }
   ],
   "dockerImageVersionId": 30822,
   "isGpuEnabled": false,
   "isInternetEnabled": true,
   "language": "python",
   "sourceType": "notebook"
  },
  "kernelspec": {
   "display_name": "Python 3",
   "language": "python",
   "name": "python3"
  },
  "language_info": {
   "codemirror_mode": {
    "name": "ipython",
    "version": 3
   },
   "file_extension": ".py",
   "mimetype": "text/x-python",
   "name": "python",
   "nbconvert_exporter": "python",
   "pygments_lexer": "ipython3",
   "version": "3.10.12"
  },
  "papermill": {
   "default_parameters": {},
   "duration": 3.769905,
   "end_time": "2025-03-12T16:57:34.472065",
   "environment_variables": {},
   "exception": null,
   "input_path": "__notebook__.ipynb",
   "output_path": "__notebook__.ipynb",
   "parameters": {},
   "start_time": "2025-03-12T16:57:30.702160",
   "version": "2.6.0"
  }
 },
 "nbformat": 4,
 "nbformat_minor": 5
}
